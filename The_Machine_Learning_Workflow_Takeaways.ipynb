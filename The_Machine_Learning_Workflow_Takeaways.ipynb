{
  "nbformat": 4,
  "nbformat_minor": 0,
  "metadata": {
    "colab": {
      "provenance": [],
      "authorship_tag": "ABX9TyOVtDPVNa4pgpJB0KwgOKV1"
    },
    "kernelspec": {
      "name": "python3",
      "display_name": "Python 3"
    },
    "language_info": {
      "name": "python"
    }
  },
  "cells": [
    {
      "cell_type": "markdown",
      "source": [
        "#Syntax"
      ],
      "metadata": {
        "id": "chv-3JsKQH9E"
      }
    },
    {
      "cell_type": "markdown",
      "source": [
        "Loading the Breast Cancer Wisconsin (Diagnostic) Dataset in scikit-learn into a PandasDataFrame:"
      ],
      "metadata": {
        "id": "FPOb-UiLQKLH"
      }
    },
    {
      "cell_type": "code",
      "source": [
        "import numpy as np\n",
        "import pandas as pd\n",
        "from sklearn.datasets import load_breast_cancer"
      ],
      "metadata": {
        "id": "jDlNX5z3Qstn"
      },
      "execution_count": 3,
      "outputs": []
    },
    {
      "cell_type": "code",
      "execution_count": 4,
      "metadata": {
        "id": "LGSI5hmmPqtL"
      },
      "outputs": [],
      "source": [
        "cancer_data = load_breast_cancer(as_frame=True)\n",
        "cancer_df = cancer_data.data\n",
        "cancer_df['target'] = cancer_data.target"
      ]
    },
    {
      "cell_type": "markdown",
      "source": [
        "Preparing and splitting the dataset into training and test datasets"
      ],
      "metadata": {
        "id": "Bm4jbe_nQ3Ao"
      }
    },
    {
      "cell_type": "code",
      "source": [
        "from sklearn.model_selection import train_test_split\n",
        "X = cancer_df.drop([\"target\"], axis=1)\n",
        "y = cancer_df[\"target\"]\n",
        "X_train, X_test, y_train, y_test = train_test_split(X, y, test_size=0.15, random_state=417)"
      ],
      "metadata": {
        "id": "mQMNffc-QHvy"
      },
      "execution_count": 5,
      "outputs": []
    },
    {
      "cell_type": "markdown",
      "source": [
        "Building and training a LinearSVC model in scikit-learn"
      ],
      "metadata": {
        "id": "c1H6yPmMRQY7"
      }
    },
    {
      "cell_type": "code",
      "source": [
        "from sklearn.svm import LinearSVC"
      ],
      "metadata": {
        "id": "CY38UisAR3wW"
      },
      "execution_count": 7,
      "outputs": []
    },
    {
      "cell_type": "code",
      "source": [
        "model = LinearSVC(penalty=\"l2\", loss=\"squared_hinge\", C=10, random_state=417)\n",
        "model.fit(X_train, y_train)"
      ],
      "metadata": {
        "id": "uAQBNlABRMmX"
      },
      "execution_count": null,
      "outputs": []
    },
    {
      "cell_type": "markdown",
      "source": [
        "Calculating the accuracy of a model in scikit-learn:"
      ],
      "metadata": {
        "id": "Bt_LIMcpSCKb"
      }
    },
    {
      "cell_type": "code",
      "source": [
        "model.score(X_test, y_test)"
      ],
      "metadata": {
        "colab": {
          "base_uri": "https://localhost:8080/"
        },
        "id": "AvSxO871R7Pf",
        "outputId": "170a76e3-7ea8-4d90-b31d-89eebc5c9607"
      },
      "execution_count": 9,
      "outputs": [
        {
          "output_type": "execute_result",
          "data": {
            "text/plain": [
              "0.9651162790697675"
            ]
          },
          "metadata": {},
          "execution_count": 9
        }
      ]
    }
  ]
}