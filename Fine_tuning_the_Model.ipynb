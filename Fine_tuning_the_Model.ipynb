{
  "nbformat": 4,
  "nbformat_minor": 0,
  "metadata": {
    "colab": {
      "provenance": [],
      "authorship_tag": "ABX9TyN+RQBDL35m615U6J+rc2+6"
    },
    "kernelspec": {
      "name": "python3",
      "display_name": "Python 3"
    },
    "language_info": {
      "name": "python"
    }
  },
  "cells": [
    {
      "cell_type": "code",
      "execution_count": 1,
      "metadata": {
        "id": "c_wqoWgDWt-d"
      },
      "outputs": [],
      "source": [
        "import pandas as pd\n",
        "from sklearn.datasets import load_breast_cancer\n",
        "from sklearn.model_selection import train_test_split\n",
        "from sklearn.svm import LinearSVC\n",
        "\n",
        "cancer_data = load_breast_cancer(as_frame=True)\n",
        "cancer_df = cancer_data.data\n",
        "cancer_df['target'] = cancer_data.target\n",
        "\n",
        "X = cancer_df.drop([\"target\"], axis=1)\n",
        "y = cancer_df[\"target\"]\n",
        "\n",
        "X_train, X_test, y_train, y_test = train_test_split(X, y, test_size=0.15, random_state=417)"
      ]
    },
    {
      "cell_type": "code",
      "source": [
        "# Create an instance of LinearSVC with specified parameters\n",
        "model = LinearSVC(penalty=\"l2\", loss=\"squared_hinge\", C=10, max_iter=3500, random_state=417)"
      ],
      "metadata": {
        "id": "05fvuHgfXQcF"
      },
      "execution_count": 2,
      "outputs": []
    },
    {
      "cell_type": "code",
      "source": [
        "# Train the model on the training data\n",
        "model.fit(X_train, y_train)\n",
        "\n",
        "print(\"Model training complete with squared_hinge loss.\")"
      ],
      "metadata": {
        "colab": {
          "base_uri": "https://localhost:8080/"
        },
        "id": "RYkEC5TmhA0F",
        "outputId": "15064233-c0c5-4455-9b8b-a654b951661a"
      },
      "execution_count": 3,
      "outputs": [
        {
          "output_type": "stream",
          "name": "stdout",
          "text": [
            "Model training complete with squared_hinge loss.\n"
          ]
        }
      ]
    }
  ]
}