{
  "nbformat": 4,
  "nbformat_minor": 0,
  "metadata": {
    "colab": {
      "provenance": [],
      "authorship_tag": "ABX9TyONTVtUkdeLaZKO6gKXMVTJ"
    },
    "kernelspec": {
      "name": "python3",
      "display_name": "Python 3"
    },
    "language_info": {
      "name": "python"
    }
  },
  "cells": [
    {
      "cell_type": "code",
      "execution_count": 1,
      "metadata": {
        "id": "g_burrZc1kfk"
      },
      "outputs": [],
      "source": [
        "import pandas as pd\n",
        "from sklearn.datasets import load_breast_cancer\n"
      ]
    },
    {
      "cell_type": "code",
      "source": [
        "cancer_data = load_breast_cancer(as_frame=True)\n",
        "cancer_df = cancer_data.data\n",
        "cancer_df['target'] = cancer_data.target"
      ],
      "metadata": {
        "id": "emh3lEkxEx_E"
      },
      "execution_count": 2,
      "outputs": []
    },
    {
      "cell_type": "code",
      "source": [
        "from sklearn.model_selection import train_test_split"
      ],
      "metadata": {
        "id": "cs6sdcl_E9jk"
      },
      "execution_count": 3,
      "outputs": []
    },
    {
      "cell_type": "code",
      "source": [
        "# Define features (X) and target (y)\n",
        "X = cancer_df.drop(columns=['target'])  # Exclude the target column\n",
        "y = cancer_df['target']  # Target variable"
      ],
      "metadata": {
        "id": "bBr5YXRpFNVT"
      },
      "execution_count": 4,
      "outputs": []
    },
    {
      "cell_type": "code",
      "source": [
        "# Split the data into training and testing sets\n",
        "X_train, X_test, y_train, y_test = train_test_split(X, y, test_size=0.15, random_state=417)\n",
        "\n"
      ],
      "metadata": {
        "id": "IlD5j7DGFlGy"
      },
      "execution_count": 6,
      "outputs": []
    },
    {
      "cell_type": "code",
      "source": [
        "# Print the shapes of the training and testing sets\n",
        "print(\"Training features shape:\", X_train.shape)\n",
        "print(\"Testing features shape:\", X_test.shape)\n",
        "print(\"Training target shape:\", y_train.shape)\n",
        "print(\"Testing target shape:\", y_test.shape)"
      ],
      "metadata": {
        "colab": {
          "base_uri": "https://localhost:8080/"
        },
        "id": "5cSdjEY2F4p7",
        "outputId": "2bd44add-87aa-42f4-82fc-1dfeb25c920c"
      },
      "execution_count": 7,
      "outputs": [
        {
          "output_type": "stream",
          "name": "stdout",
          "text": [
            "Training features shape: (483, 30)\n",
            "Testing features shape: (86, 30)\n",
            "Training target shape: (483,)\n",
            "Testing target shape: (86,)\n"
          ]
        }
      ]
    }
  ]
}