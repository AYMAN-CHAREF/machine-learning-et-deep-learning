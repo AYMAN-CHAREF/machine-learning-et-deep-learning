{
  "nbformat": 4,
  "nbformat_minor": 0,
  "metadata": {
    "colab": {
      "provenance": [],
      "authorship_tag": "ABX9TyN/jTPcv8gU7DRGuRh1DRyg"
    },
    "kernelspec": {
      "name": "python3",
      "display_name": "Python 3"
    },
    "language_info": {
      "name": "python"
    }
  },
  "cells": [
    {
      "cell_type": "code",
      "execution_count": null,
      "metadata": {
        "id": "CNEPkYewhhuf"
      },
      "outputs": [],
      "source": [
        "import pandas as pd\n",
        "from sklearn.datasets import load_breast_cancer\n",
        "from sklearn.model_selection import train_test_split\n",
        "from sklearn.svm import LinearSVC\n",
        "\n",
        "cancer_data = load_breast_cancer(as_frame=True)\n",
        "cancer_df = cancer_data.data\n",
        "cancer_df['target'] = cancer_data.target\n",
        "\n",
        "X = cancer_df.drop([\"target\"], axis=1)\n",
        "y = cancer_df[\"target\"]\n",
        "\n",
        "X_train, X_test, y_train, y_test = train_test_split(X, y, test_size=0.15, random_state=417)\n",
        "\n",
        "model = LinearSVC(penalty=\"l2\", loss=\"squared_hinge\", C=10, max_iter=3500, random_state=417)\n",
        "model.fit(X_train, y_train)"
      ]
    },
    {
      "cell_type": "code",
      "source": [
        "# Evaluate the model on the test set\n",
        "test_accuracy = model.score(X_test, y_test)"
      ],
      "metadata": {
        "id": "98lpyunsiFSv"
      },
      "execution_count": 2,
      "outputs": []
    },
    {
      "cell_type": "code",
      "source": [
        "# Print the accuracy score\n",
        "print(\"Test Accuracy:\", test_accuracy)"
      ],
      "metadata": {
        "colab": {
          "base_uri": "https://localhost:8080/"
        },
        "id": "4fogOP6wiH0A",
        "outputId": "16aae7d6-31b1-429a-dd64-299d3befac89"
      },
      "execution_count": 3,
      "outputs": [
        {
          "output_type": "stream",
          "name": "stdout",
          "text": [
            "Test Accuracy: 0.9651162790697675\n"
          ]
        }
      ]
    }
  ]
}