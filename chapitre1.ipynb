{
  "nbformat": 4,
  "nbformat_minor": 0,
  "metadata": {
    "colab": {
      "provenance": [],
      "authorship_tag": "ABX9TyMyZ9uT9GXjRB6KxX6gvyMU"
    },
    "kernelspec": {
      "name": "python3",
      "display_name": "Python 3"
    },
    "language_info": {
      "name": "python"
    }
  },
  "cells": [
    {
      "cell_type": "markdown",
      "source": [
        "#Creating a Vector"
      ],
      "metadata": {
        "id": "8xJ647qehud5"
      }
    },
    {
      "cell_type": "code",
      "execution_count": null,
      "metadata": {
        "id": "H79YRh7CdBb8"
      },
      "outputs": [],
      "source": [
        "# Load library\n",
        "import numpy as np"
      ]
    },
    {
      "cell_type": "code",
      "source": [
        "# Create a vector as a row\n",
        "vector_row = np.array([1,2,3])"
      ],
      "metadata": {
        "id": "6B9IV-l9gD5-"
      },
      "execution_count": null,
      "outputs": []
    },
    {
      "cell_type": "code",
      "source": [
        "vector_row"
      ],
      "metadata": {
        "colab": {
          "base_uri": "https://localhost:8080/"
        },
        "id": "LtoWNcmtg7RP",
        "outputId": "2457bc93-4c91-4188-b6af-8d8c7a5564b5"
      },
      "execution_count": null,
      "outputs": [
        {
          "output_type": "execute_result",
          "data": {
            "text/plain": [
              "array([1, 2, 3])"
            ]
          },
          "metadata": {},
          "execution_count": 7
        }
      ]
    },
    {
      "cell_type": "code",
      "source": [
        "# Create a vector as a column\n",
        "vector_column = np.array ([[1],[2],[3]])"
      ],
      "metadata": {
        "id": "fgpaTw4DgY1K"
      },
      "execution_count": null,
      "outputs": []
    },
    {
      "cell_type": "code",
      "source": [
        "vector_column"
      ],
      "metadata": {
        "colab": {
          "base_uri": "https://localhost:8080/"
        },
        "id": "jzpNfklwg45Y",
        "outputId": "70de823b-691d-40d3-ee10-9eaec21cc335"
      },
      "execution_count": null,
      "outputs": [
        {
          "output_type": "execute_result",
          "data": {
            "text/plain": [
              "array([[1],\n",
              "       [2],\n",
              "       [3]])"
            ]
          },
          "metadata": {},
          "execution_count": 4
        }
      ]
    },
    {
      "cell_type": "markdown",
      "source": [
        "#Creating a Matrix"
      ],
      "metadata": {
        "id": "UQLNpxwvh8g9"
      }
    },
    {
      "cell_type": "code",
      "source": [
        "# Create matrix\n",
        "matrix = np.array([[1,2],[1,2],[1,2]])"
      ],
      "metadata": {
        "id": "p4tqm1vwh7-D"
      },
      "execution_count": null,
      "outputs": []
    },
    {
      "cell_type": "code",
      "source": [
        "matrix"
      ],
      "metadata": {
        "colab": {
          "base_uri": "https://localhost:8080/"
        },
        "id": "rRCJIzPdjsj3",
        "outputId": "89b25469-d013-42eb-cf63-48dfcaa16d05"
      },
      "execution_count": null,
      "outputs": [
        {
          "output_type": "execute_result",
          "data": {
            "text/plain": [
              "array([[1, 2],\n",
              "       [1, 2],\n",
              "       [1, 2]])"
            ]
          },
          "metadata": {},
          "execution_count": 9
        }
      ]
    },
    {
      "cell_type": "code",
      "source": [
        "matrix_objet = np.mat([[1,2],[1,2],[1,2]])"
      ],
      "metadata": {
        "id": "ldFuvyA_jx6u"
      },
      "execution_count": null,
      "outputs": []
    },
    {
      "cell_type": "code",
      "source": [
        "matrix_objet"
      ],
      "metadata": {
        "colab": {
          "base_uri": "https://localhost:8080/"
        },
        "id": "Erk6w03XkqUr",
        "outputId": "5212336e-14d8-4004-aaf1-51ad92c7b467"
      },
      "execution_count": null,
      "outputs": [
        {
          "output_type": "execute_result",
          "data": {
            "text/plain": [
              "matrix([[1, 2],\n",
              "        [1, 2],\n",
              "        [1, 2]])"
            ]
          },
          "metadata": {},
          "execution_count": 11
        }
      ]
    },
    {
      "cell_type": "markdown",
      "source": [
        "However, the matrix data structure is not recommended for two reasons. First, arrays are the de facto\n",
        "standard data structure of NumPy. Second, the vast majority of NumPy operations return arrays, not\n",
        "matrix objects."
      ],
      "metadata": {
        "id": "wX0cnX2YlVGP"
      }
    },
    {
      "cell_type": "markdown",
      "source": [
        "# Creating a Sparse Matrix"
      ],
      "metadata": {
        "id": "LM3bkmFGlZD-"
      }
    },
    {
      "cell_type": "markdown",
      "source": [
        "Problem\n",
        "Given data with very few nonzero values, you want to efficiently represent it"
      ],
      "metadata": {
        "id": "ZVaEihBal1IC"
      }
    },
    {
      "cell_type": "code",
      "source": [
        "import numpy as np\n",
        "from scipy import sparse"
      ],
      "metadata": {
        "id": "mcJd4UBll2yz"
      },
      "execution_count": null,
      "outputs": []
    },
    {
      "cell_type": "code",
      "source": [
        "# Create matrix\n",
        "matrix = np.array([[0,0],[0,1],[3,0]])"
      ],
      "metadata": {
        "id": "7aSyjDmjmL2X"
      },
      "execution_count": null,
      "outputs": []
    },
    {
      "cell_type": "code",
      "source": [
        "# create compressed sparse row (CSR) matrix\n",
        "matrix_sparse = sparse.csr_matrix(matrix)"
      ],
      "metadata": {
        "id": "hRmY8lagmYOR"
      },
      "execution_count": null,
      "outputs": []
    },
    {
      "cell_type": "code",
      "source": [
        "matrix_sparse"
      ],
      "metadata": {
        "colab": {
          "base_uri": "https://localhost:8080/"
        },
        "id": "Yk13hhiOmr6W",
        "outputId": "ce08b708-3228-461a-f5d8-cee9ab41e388"
      },
      "execution_count": null,
      "outputs": [
        {
          "output_type": "execute_result",
          "data": {
            "text/plain": [
              "<3x2 sparse matrix of type '<class 'numpy.int64'>'\n",
              "\twith 2 stored elements in Compressed Sparse Row format>"
            ]
          },
          "metadata": {},
          "execution_count": 17
        }
      ]
    },
    {
      "cell_type": "markdown",
      "source": [
        "A frequent situation in machine learning is having a huge amount of data; however, most of the\n",
        "elements in the data are zeros. For example, imagine a matrix where the columns are every movie on\n",
        "Netflix, the rows are every Netflix user, and the values are how many times a user has watched that\n",
        "particular movie. This matrix would have tens of thousands of columns and millions of rows! However,\n",
        "since most users do not watch most movies, the vast majority of elements would be zero.\n",
        "A sparse matrix is a matrix in which most elements are 0. Sparse matrices only store nonzero elements\n",
        "and assume all other values will be zero, leading to significant computational savings. In our solution,\n",
        "we created a NumPy array with two nonzero values, then converted it into a sparse matrix. If we view\n",
        "the sparse matrix we can see that only the nonzero values are stored:"
      ],
      "metadata": {
        "id": "Xx4Ohi97n8Ys"
      }
    },
    {
      "cell_type": "code",
      "source": [
        "# View sparse matrix\n",
        "print(matrix_sparse)"
      ],
      "metadata": {
        "colab": {
          "base_uri": "https://localhost:8080/"
        },
        "id": "AM2Z6XX-nyK3",
        "outputId": "4d2f343a-d2a7-4e48-bccf-9199e9b42ab1"
      },
      "execution_count": null,
      "outputs": [
        {
          "output_type": "stream",
          "name": "stdout",
          "text": [
            "  (1, 1)\t1\n",
            "  (2, 0)\t3\n"
          ]
        }
      ]
    },
    {
      "cell_type": "markdown",
      "source": [
        "There are a number of types of sparse matrices. However, in compressed sparse row (CSR) matrices,\n",
        "(1, 1) and (2, 0) represent the (zero-indexed) indices of the non-zero values 1 and 3, respectively.\n",
        "For example, the element 1 is in the second row and second column. We can see the advantage of sparse\n",
        "matrices if we create a much larger matrix with many more zero elements and then compare this larger\n",
        "matrix with our original sparse matrix:"
      ],
      "metadata": {
        "id": "KnlwoJN6osTq"
      }
    },
    {
      "cell_type": "code",
      "source": [
        "# Create larger matrix\n",
        "matrix_large = np.array([[0, 0, 0, 0, 0, 0, 0, 0, 0, 0],\n",
        "                         [0, 1, 0, 0, 0, 0, 0, 0, 0, 0],\n",
        "                         [3, 0, 0, 0, 0, 0, 0, 0, 0, 0]])\n",
        "\n",
        "#Create compressed sparse row (CSR) mmatrix\n",
        "matrix_large_sparse = sparse.csr_matrix(matrix_large)\n",
        "\n"
      ],
      "metadata": {
        "id": "7G7PvJ7pot6o"
      },
      "execution_count": null,
      "outputs": []
    },
    {
      "cell_type": "markdown",
      "source": [
        "in compressed sparse row (CSR) matrices,\n",
        "(1, 1) and (2, 0) represent the (zero-indexed) indices of the non-zero values 1 and 3, respectively"
      ],
      "metadata": {
        "id": "HHT9mr3Lpiy_"
      }
    },
    {
      "cell_type": "code",
      "source": [
        "#View original sparse matrix\n",
        "print(matrix_sparse)"
      ],
      "metadata": {
        "colab": {
          "base_uri": "https://localhost:8080/"
        },
        "id": "ofoN0NeTpbGQ",
        "outputId": "a2a34604-0d06-42c8-d8e1-fe9162b5800f"
      },
      "execution_count": null,
      "outputs": [
        {
          "output_type": "stream",
          "name": "stdout",
          "text": [
            "  (1, 1)\t1\n",
            "  (2, 0)\t3\n"
          ]
        }
      ]
    },
    {
      "cell_type": "code",
      "source": [
        "# View larger sparse matrix\n",
        "print(matrix_large_sparse)"
      ],
      "metadata": {
        "colab": {
          "base_uri": "https://localhost:8080/"
        },
        "id": "wCxSxzNUpoGV",
        "outputId": "3409dc42-870b-40c5-a149-30a3335cdb04"
      },
      "execution_count": null,
      "outputs": [
        {
          "output_type": "stream",
          "name": "stdout",
          "text": [
            "  (1, 1)\t1\n",
            "  (2, 0)\t3\n"
          ]
        }
      ]
    },
    {
      "cell_type": "markdown",
      "source": [
        "As we can see, despite the fact that we added many more zero elements in the larger matrix, its sparse\n",
        "representation is exactly the same as our original sparse matrix. That is, the addition of zero elements\n",
        "did not change the size of the sparse matrix.\n",
        "As mentioned, there are many different types of sparse matrices, such as compressed sparse column, list\n",
        "of lists, and dictionary of keys. While an explanation of the different types and their implications is\n",
        "outside the scope of this book, it is worth noting that while there is no “best” sparse matrix type, there\n",
        "are meaningful differences between them and we should be conscious about why we are choosing one\n",
        "type over another."
      ],
      "metadata": {
        "id": "xLmnfZfoqGaT"
      }
    },
    {
      "cell_type": "markdown",
      "source": [
        "# Pre-allocating Numpy Arrays :\n",
        "You need to pre-allocate arrays of a given size with some value."
      ],
      "metadata": {
        "id": "jMplAifHQf71"
      }
    },
    {
      "cell_type": "code",
      "source": [
        "# Load Library\n",
        "import numpy as np\n",
        "\n",
        "#Generate a vector of shape (1,5) containing all zeros\n",
        "vector = np.zeros(shape=5)"
      ],
      "metadata": {
        "id": "CqbKDXhhRJYI"
      },
      "execution_count": 5,
      "outputs": []
    },
    {
      "cell_type": "code",
      "source": [
        " # View the vector\n",
        " print(vector)"
      ],
      "metadata": {
        "colab": {
          "base_uri": "https://localhost:8080/"
        },
        "id": "DHsA4fSOSTLw",
        "outputId": "56fba332-dc68-4c00-bc1e-340105d02036"
      },
      "execution_count": 6,
      "outputs": [
        {
          "output_type": "stream",
          "name": "stdout",
          "text": [
            "[0. 0. 0. 0. 0.]\n"
          ]
        }
      ]
    },
    {
      "cell_type": "code",
      "source": [
        "# Generate a matrix of shape (3,3) containing all ones\n",
        "matrix = np.full(shape=(3,3), fill_value=1)"
      ],
      "metadata": {
        "id": "KnAfDmX8SbbP"
      },
      "execution_count": 7,
      "outputs": []
    },
    {
      "cell_type": "code",
      "source": [
        "print(matrix)"
      ],
      "metadata": {
        "colab": {
          "base_uri": "https://localhost:8080/"
        },
        "id": "xOAxyv2YS76C",
        "outputId": "7d995a83-dfc4-4693-c69a-f708ee3b23d1"
      },
      "execution_count": 8,
      "outputs": [
        {
          "output_type": "stream",
          "name": "stdout",
          "text": [
            "[[1 1 1]\n",
            " [1 1 1]\n",
            " [1 1 1]]\n"
          ]
        }
      ]
    },
    {
      "cell_type": "markdown",
      "source": [
        "# Selecting Elements\n",
        "\n",
        "You need to select one or more elements in a vector or matrix."
      ],
      "metadata": {
        "id": "Tx39WzwOTAVD"
      }
    },
    {
      "cell_type": "code",
      "source": [
        "# Load Library\n",
        "import numpy as np"
      ],
      "metadata": {
        "id": "oA9G11NnTwlA"
      },
      "execution_count": 9,
      "outputs": []
    },
    {
      "cell_type": "code",
      "source": [
        "# Create a row vector\n",
        "vector = np.array([1,2,3,4,5,6])"
      ],
      "metadata": {
        "id": "eaVC3ZtuT2_T"
      },
      "execution_count": 10,
      "outputs": []
    },
    {
      "cell_type": "code",
      "source": [
        "# Create matrix\n",
        "matrix = np.array([[1,2,3],\n",
        "                  [4,5,6],\n",
        "                  [7,8,9]])\n"
      ],
      "metadata": {
        "id": "xLdERZC2T_E4"
      },
      "execution_count": 11,
      "outputs": []
    },
    {
      "cell_type": "code",
      "source": [
        "# Select third element of vector\n",
        "vector[2]"
      ],
      "metadata": {
        "colab": {
          "base_uri": "https://localhost:8080/"
        },
        "id": "Yn-X0U5CUW3z",
        "outputId": "530133cb-d6f3-4a1a-d660-a3c140b59fa2"
      },
      "execution_count": 12,
      "outputs": [
        {
          "output_type": "execute_result",
          "data": {
            "text/plain": [
              "3"
            ]
          },
          "metadata": {},
          "execution_count": 12
        }
      ]
    },
    {
      "cell_type": "code",
      "source": [
        "# Select second row\n",
        "matrix[1,1]"
      ],
      "metadata": {
        "colab": {
          "base_uri": "https://localhost:8080/"
        },
        "id": "NihbRNY_Uej-",
        "outputId": "2def915b-7546-44f7-e2d2-43e451790f74"
      },
      "execution_count": 13,
      "outputs": [
        {
          "output_type": "execute_result",
          "data": {
            "text/plain": [
              "5"
            ]
          },
          "metadata": {},
          "execution_count": 13
        }
      ]
    },
    {
      "cell_type": "markdown",
      "source": [
        "Like most things in Python, NumPy arrays are zero-indexed, meaning that the index of the first element\n",
        "is 0, not 1. With that caveat, NumPy offers a wide variety of methods for selecting (i.e., indexing and\n",
        "slicing) elements or groups of elements in arrays:"
      ],
      "metadata": {
        "id": "hKW1UnaEVgHW"
      }
    },
    {
      "cell_type": "code",
      "source": [
        "# Select all elements of a vector\n",
        "vector[:]"
      ],
      "metadata": {
        "colab": {
          "base_uri": "https://localhost:8080/"
        },
        "id": "v8yTuKl1Vi3R",
        "outputId": "df1f19e3-36b6-4b17-b732-27aa71be402f"
      },
      "execution_count": 14,
      "outputs": [
        {
          "output_type": "execute_result",
          "data": {
            "text/plain": [
              "array([1, 2, 3, 4, 5, 6])"
            ]
          },
          "metadata": {},
          "execution_count": 14
        }
      ]
    },
    {
      "cell_type": "code",
      "source": [
        "# Select everything up to and including the third element\n",
        "vector[:3]"
      ],
      "metadata": {
        "colab": {
          "base_uri": "https://localhost:8080/"
        },
        "id": "07XTfdvjV8eJ",
        "outputId": "589bfb71-3ba8-4d5f-a2f9-bc1308bdf2b8"
      },
      "execution_count": 15,
      "outputs": [
        {
          "output_type": "execute_result",
          "data": {
            "text/plain": [
              "array([1, 2, 3])"
            ]
          },
          "metadata": {},
          "execution_count": 15
        }
      ]
    },
    {
      "cell_type": "code",
      "source": [
        "# Select everything after the third element\n",
        "vector[3:]"
      ],
      "metadata": {
        "colab": {
          "base_uri": "https://localhost:8080/"
        },
        "id": "JTWseRx7WGDa",
        "outputId": "524f4005-c5a3-41ee-c242-0168b0cac27e"
      },
      "execution_count": 16,
      "outputs": [
        {
          "output_type": "execute_result",
          "data": {
            "text/plain": [
              "array([4, 5, 6])"
            ]
          },
          "metadata": {},
          "execution_count": 16
        }
      ]
    },
    {
      "cell_type": "code",
      "source": [
        "# Select the last element\n",
        "vector[-1]"
      ],
      "metadata": {
        "colab": {
          "base_uri": "https://localhost:8080/"
        },
        "id": "nSD3C93RWTK1",
        "outputId": "7057c675-0b70-48c5-a3ae-b084c1896a5f"
      },
      "execution_count": 17,
      "outputs": [
        {
          "output_type": "execute_result",
          "data": {
            "text/plain": [
              "6"
            ]
          },
          "metadata": {},
          "execution_count": 17
        }
      ]
    },
    {
      "cell_type": "code",
      "source": [
        "# Reverse the vector\n",
        "vector[::-1]"
      ],
      "metadata": {
        "colab": {
          "base_uri": "https://localhost:8080/"
        },
        "id": "ONwCNQBCWXDX",
        "outputId": "e95ceb6d-2a4e-46be-e061-6d26c8118d2d"
      },
      "execution_count": 19,
      "outputs": [
        {
          "output_type": "execute_result",
          "data": {
            "text/plain": [
              "array([6, 5, 4, 3, 2, 1])"
            ]
          },
          "metadata": {},
          "execution_count": 19
        }
      ]
    },
    {
      "cell_type": "code",
      "source": [
        "# Select the first two rows and all columns of a matrix\n",
        "matrix[:2,:]"
      ],
      "metadata": {
        "colab": {
          "base_uri": "https://localhost:8080/"
        },
        "id": "HtlQ6GsUWjpd",
        "outputId": "41c016a1-8555-4598-90a0-8524798cdb06"
      },
      "execution_count": 22,
      "outputs": [
        {
          "output_type": "execute_result",
          "data": {
            "text/plain": [
              "array([[1, 2, 3],\n",
              "       [4, 5, 6]])"
            ]
          },
          "metadata": {},
          "execution_count": 22
        }
      ]
    },
    {
      "cell_type": "code",
      "source": [
        "# Select all rows and the second column\n",
        "matrix[:,1:2]"
      ],
      "metadata": {
        "colab": {
          "base_uri": "https://localhost:8080/"
        },
        "id": "bGZwHAiCW5Zl",
        "outputId": "6e99e85a-bc54-4604-e66f-fe1d4bd25a21"
      },
      "execution_count": 27,
      "outputs": [
        {
          "output_type": "execute_result",
          "data": {
            "text/plain": [
              "array([[2],\n",
              "       [5],\n",
              "       [8]])"
            ]
          },
          "metadata": {},
          "execution_count": 27
        }
      ]
    },
    {
      "cell_type": "markdown",
      "source": [
        "# Describing a Matrix\n",
        "You want to describe the shape, size, and dimensions of the matrix"
      ],
      "metadata": {
        "id": "mmS8ZPo7X8gI"
      }
    },
    {
      "cell_type": "code",
      "source": [],
      "metadata": {
        "id": "VcRzgbD7YCPG"
      },
      "execution_count": null,
      "outputs": []
    }
  ]
}