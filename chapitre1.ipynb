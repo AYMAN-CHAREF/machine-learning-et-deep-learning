{
  "nbformat": 4,
  "nbformat_minor": 0,
  "metadata": {
    "colab": {
      "provenance": [],
      "authorship_tag": "ABX9TyOmh1pbR+OmHbggpjJJCk4A"
    },
    "kernelspec": {
      "name": "python3",
      "display_name": "Python 3"
    },
    "language_info": {
      "name": "python"
    }
  },
  "cells": [
    {
      "cell_type": "markdown",
      "source": [
        "#Creating a Vector"
      ],
      "metadata": {
        "id": "8xJ647qehud5"
      }
    },
    {
      "cell_type": "code",
      "execution_count": 1,
      "metadata": {
        "id": "H79YRh7CdBb8"
      },
      "outputs": [],
      "source": [
        "# Load library\n",
        "import numpy as np"
      ]
    },
    {
      "cell_type": "code",
      "source": [
        "# Create a vector as a row\n",
        "vector_row = np.array([1,2,3])"
      ],
      "metadata": {
        "id": "6B9IV-l9gD5-"
      },
      "execution_count": 5,
      "outputs": []
    },
    {
      "cell_type": "code",
      "source": [
        "vector_row"
      ],
      "metadata": {
        "colab": {
          "base_uri": "https://localhost:8080/"
        },
        "id": "LtoWNcmtg7RP",
        "outputId": "2457bc93-4c91-4188-b6af-8d8c7a5564b5"
      },
      "execution_count": 7,
      "outputs": [
        {
          "output_type": "execute_result",
          "data": {
            "text/plain": [
              "array([1, 2, 3])"
            ]
          },
          "metadata": {},
          "execution_count": 7
        }
      ]
    },
    {
      "cell_type": "code",
      "source": [
        "# Create a vector as a column\n",
        "vector_column = np.array ([[1],[2],[3]])"
      ],
      "metadata": {
        "id": "fgpaTw4DgY1K"
      },
      "execution_count": 3,
      "outputs": []
    },
    {
      "cell_type": "code",
      "source": [
        "vector_column"
      ],
      "metadata": {
        "colab": {
          "base_uri": "https://localhost:8080/"
        },
        "id": "jzpNfklwg45Y",
        "outputId": "70de823b-691d-40d3-ee10-9eaec21cc335"
      },
      "execution_count": 4,
      "outputs": [
        {
          "output_type": "execute_result",
          "data": {
            "text/plain": [
              "array([[1],\n",
              "       [2],\n",
              "       [3]])"
            ]
          },
          "metadata": {},
          "execution_count": 4
        }
      ]
    },
    {
      "cell_type": "markdown",
      "source": [
        "#Creating a Matrix"
      ],
      "metadata": {
        "id": "UQLNpxwvh8g9"
      }
    },
    {
      "cell_type": "code",
      "source": [
        "# Create matrix\n",
        "matrix = np.array([[1,2],[1,2],[1,2]])"
      ],
      "metadata": {
        "id": "p4tqm1vwh7-D"
      },
      "execution_count": 8,
      "outputs": []
    },
    {
      "cell_type": "code",
      "source": [
        "matrix"
      ],
      "metadata": {
        "colab": {
          "base_uri": "https://localhost:8080/"
        },
        "id": "rRCJIzPdjsj3",
        "outputId": "89b25469-d013-42eb-cf63-48dfcaa16d05"
      },
      "execution_count": 9,
      "outputs": [
        {
          "output_type": "execute_result",
          "data": {
            "text/plain": [
              "array([[1, 2],\n",
              "       [1, 2],\n",
              "       [1, 2]])"
            ]
          },
          "metadata": {},
          "execution_count": 9
        }
      ]
    },
    {
      "cell_type": "code",
      "source": [
        "matrix_objet = np.mat([[1,2],[1,2],[1,2]])"
      ],
      "metadata": {
        "id": "ldFuvyA_jx6u"
      },
      "execution_count": 10,
      "outputs": []
    },
    {
      "cell_type": "code",
      "source": [
        "matrix_objet"
      ],
      "metadata": {
        "colab": {
          "base_uri": "https://localhost:8080/"
        },
        "id": "Erk6w03XkqUr",
        "outputId": "5212336e-14d8-4004-aaf1-51ad92c7b467"
      },
      "execution_count": 11,
      "outputs": [
        {
          "output_type": "execute_result",
          "data": {
            "text/plain": [
              "matrix([[1, 2],\n",
              "        [1, 2],\n",
              "        [1, 2]])"
            ]
          },
          "metadata": {},
          "execution_count": 11
        }
      ]
    },
    {
      "cell_type": "markdown",
      "source": [
        "However, the matrix data structure is not recommended for two reasons. First, arrays are the de facto\n",
        "standard data structure of NumPy. Second, the vast majority of NumPy operations return arrays, not\n",
        "matrix objects."
      ],
      "metadata": {
        "id": "wX0cnX2YlVGP"
      }
    },
    {
      "cell_type": "markdown",
      "source": [
        "# Creating a Sparse Matrix"
      ],
      "metadata": {
        "id": "LM3bkmFGlZD-"
      }
    },
    {
      "cell_type": "markdown",
      "source": [
        "Problem\n",
        "Given data with very few nonzero values, you want to efficiently represent it"
      ],
      "metadata": {
        "id": "ZVaEihBal1IC"
      }
    },
    {
      "cell_type": "code",
      "source": [
        "import numpy as np\n",
        "from scipy import sparse"
      ],
      "metadata": {
        "id": "mcJd4UBll2yz"
      },
      "execution_count": 14,
      "outputs": []
    },
    {
      "cell_type": "code",
      "source": [
        "# Create matrix\n",
        "matrix = np.array([[0,0],[0,1],[3,0]])"
      ],
      "metadata": {
        "id": "7aSyjDmjmL2X"
      },
      "execution_count": 15,
      "outputs": []
    },
    {
      "cell_type": "code",
      "source": [
        "# create compressed sparse row (CSR) matrix\n",
        "matrix_sparse = sparse.csr_matrix(matrix)"
      ],
      "metadata": {
        "id": "hRmY8lagmYOR"
      },
      "execution_count": 16,
      "outputs": []
    },
    {
      "cell_type": "code",
      "source": [
        "matrix_sparse"
      ],
      "metadata": {
        "colab": {
          "base_uri": "https://localhost:8080/"
        },
        "id": "Yk13hhiOmr6W",
        "outputId": "ce08b708-3228-461a-f5d8-cee9ab41e388"
      },
      "execution_count": 17,
      "outputs": [
        {
          "output_type": "execute_result",
          "data": {
            "text/plain": [
              "<3x2 sparse matrix of type '<class 'numpy.int64'>'\n",
              "\twith 2 stored elements in Compressed Sparse Row format>"
            ]
          },
          "metadata": {},
          "execution_count": 17
        }
      ]
    },
    {
      "cell_type": "markdown",
      "source": [
        "A frequent situation in machine learning is having a huge amount of data; however, most of the\n",
        "elements in the data are zeros. For example, imagine a matrix where the columns are every movie on\n",
        "Netflix, the rows are every Netflix user, and the values are how many times a user has watched that\n",
        "particular movie. This matrix would have tens of thousands of columns and millions of rows! However,\n",
        "since most users do not watch most movies, the vast majority of elements would be zero.\n",
        "A sparse matrix is a matrix in which most elements are 0. Sparse matrices only store nonzero elements\n",
        "and assume all other values will be zero, leading to significant computational savings. In our solution,\n",
        "we created a NumPy array with two nonzero values, then converted it into a sparse matrix. If we view\n",
        "the sparse matrix we can see that only the nonzero values are stored:"
      ],
      "metadata": {
        "id": "Xx4Ohi97n8Ys"
      }
    },
    {
      "cell_type": "code",
      "source": [
        "# View sparse matrix\n",
        "print(matrix_sparse)"
      ],
      "metadata": {
        "colab": {
          "base_uri": "https://localhost:8080/"
        },
        "id": "AM2Z6XX-nyK3",
        "outputId": "4d2f343a-d2a7-4e48-bccf-9199e9b42ab1"
      },
      "execution_count": 18,
      "outputs": [
        {
          "output_type": "stream",
          "name": "stdout",
          "text": [
            "  (1, 1)\t1\n",
            "  (2, 0)\t3\n"
          ]
        }
      ]
    },
    {
      "cell_type": "markdown",
      "source": [
        "There are a number of types of sparse matrices. However, in compressed sparse row (CSR) matrices,\n",
        "(1, 1) and (2, 0) represent the (zero-indexed) indices of the non-zero values 1 and 3, respectively.\n",
        "For example, the element 1 is in the second row and second column. We can see the advantage of sparse\n",
        "matrices if we create a much larger matrix with many more zero elements and then compare this larger\n",
        "matrix with our original sparse matrix:"
      ],
      "metadata": {
        "id": "KnlwoJN6osTq"
      }
    },
    {
      "cell_type": "code",
      "source": [
        "# Create larger matrix\n",
        "matrix_large = np.array([[0, 0, 0, 0, 0, 0, 0, 0, 0, 0],\n",
        "                         [0, 1, 0, 0, 0, 0, 0, 0, 0, 0],\n",
        "                         [3, 0, 0, 0, 0, 0, 0, 0, 0, 0]])\n",
        "\n",
        "#Create compressed sparse row (CSR) mmatrix\n",
        "matrix_large_sparse = sparse.csr_matrix(matrix_large)\n",
        "\n"
      ],
      "metadata": {
        "id": "7G7PvJ7pot6o"
      },
      "execution_count": 21,
      "outputs": []
    },
    {
      "cell_type": "markdown",
      "source": [
        "in compressed sparse row (CSR) matrices,\n",
        "(1, 1) and (2, 0) represent the (zero-indexed) indices of the non-zero values 1 and 3, respectively"
      ],
      "metadata": {
        "id": "HHT9mr3Lpiy_"
      }
    },
    {
      "cell_type": "code",
      "source": [
        "#View original sparse matrix\n",
        "print(matrix_sparse)"
      ],
      "metadata": {
        "colab": {
          "base_uri": "https://localhost:8080/"
        },
        "id": "ofoN0NeTpbGQ",
        "outputId": "a2a34604-0d06-42c8-d8e1-fe9162b5800f"
      },
      "execution_count": 22,
      "outputs": [
        {
          "output_type": "stream",
          "name": "stdout",
          "text": [
            "  (1, 1)\t1\n",
            "  (2, 0)\t3\n"
          ]
        }
      ]
    },
    {
      "cell_type": "code",
      "source": [
        "# View larger sparse matrix\n",
        "print(matrix_large_sparse)"
      ],
      "metadata": {
        "colab": {
          "base_uri": "https://localhost:8080/"
        },
        "id": "wCxSxzNUpoGV",
        "outputId": "3409dc42-870b-40c5-a149-30a3335cdb04"
      },
      "execution_count": 23,
      "outputs": [
        {
          "output_type": "stream",
          "name": "stdout",
          "text": [
            "  (1, 1)\t1\n",
            "  (2, 0)\t3\n"
          ]
        }
      ]
    },
    {
      "cell_type": "markdown",
      "source": [
        "As we can see, despite the fact that we added many more zero elements in the larger matrix, its sparse\n",
        "representation is exactly the same as our original sparse matrix. That is, the addition of zero elements\n",
        "did not change the size of the sparse matrix.\n",
        "As mentioned, there are many different types of sparse matrices, such as compressed sparse column, list\n",
        "of lists, and dictionary of keys. While an explanation of the different types and their implications is\n",
        "outside the scope of this book, it is worth noting that while there is no “best” sparse matrix type, there\n",
        "are meaningful differences between them and we should be conscious about why we are choosing one\n",
        "type over another."
      ],
      "metadata": {
        "id": "xLmnfZfoqGaT"
      }
    }
  ]
}